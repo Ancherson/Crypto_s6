{
 "cells": [
  {
   "cell_type": "code",
   "execution_count": 19,
   "metadata": {},
   "outputs": [
    {
     "name": "stdout",
     "output_type": "stream",
     "text": [
      "abcdefgh\n",
      "ᒒ⾇恟햐ᒖ⾃恛햜\n",
      "abcdefgh\n"
     ]
    }
   ],
   "source": [
    "import random as rd\n",
    "\n",
    "def display(txt):\n",
    "    print(txt)\n",
    "\n",
    "def G():\n",
    "    return [rd.randint(0, 2**16 - 1), rd.randint(0, 2**16 - 1), rd.randint(0, 2**16 - 1), rd.randint(0, 2**16 - 1)]\n",
    "\n",
    "def getBits(nb):\n",
    "    res = [False]*16\n",
    "    for i in range(16):\n",
    "        if nb >= 2**(15 - i):\n",
    "            res[i] = True\n",
    "            nb -= 2**(15 - i)\n",
    "    return res\n",
    "\n",
    "def bitsToNb(bits):\n",
    "    res = 0\n",
    "    for i in range(16):\n",
    "        if bits[i]:\n",
    "            res += 2**(15 - i)\n",
    "    return res\n",
    "\n",
    "def xorBit(x1, x2):\n",
    "    return (x1 or x2) and not (x1 and x2)\n",
    "\n",
    "def xor(n1, n2):\n",
    "    b1 = getBits(n1)\n",
    "    b2 = getBits(n2)\n",
    "    bits = [False]*16\n",
    "    for i in range(16):\n",
    "        bits[i] = xorBit(b1[i], b2[i])\n",
    "    return bitsToNb(bits)\n",
    "\n",
    "def E(msg, key):\n",
    "    res = \"\"\n",
    "    for i in range(len(msg)):\n",
    "        res += chr(xor(ord(msg[i]), key[i % 4]))\n",
    "    return res\n",
    "\n",
    "def D(msg, key):\n",
    "    return E(msg, key)\n",
    "\n",
    "key = G()\n",
    "encr = E(\"abcdefgh\", key)\n",
    "decr = D(encr, key)\n",
    "display(\"abcdefgh\")\n",
    "print(encr)\n",
    "print(decr)"
   ]
  }
 ],
 "metadata": {
  "interpreter": {
   "hash": "4c148169d2d91ed6bd40d575b0eeb9e188b4fea1119830e8dae95678fdea5d21"
  },
  "kernelspec": {
   "display_name": "Python 3.7.3 64-bit ('base': conda)",
   "language": "python",
   "name": "python3"
  },
  "language_info": {
   "codemirror_mode": {
    "name": "ipython",
    "version": 3
   },
   "file_extension": ".py",
   "mimetype": "text/x-python",
   "name": "python",
   "nbconvert_exporter": "python",
   "pygments_lexer": "ipython3",
   "version": "3.7.3"
  },
  "orig_nbformat": 4
 },
 "nbformat": 4,
 "nbformat_minor": 2
}
