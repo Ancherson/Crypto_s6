{
 "cells": [
  {
   "cell_type": "markdown",
   "metadata": {},
   "source": [
    "1 - Un système cryptographique reposant sur un chiffrage à permutation n'est pas un système vérifiant l'hypothèse de confidentialité parfaite :\n",
    "\n",
    "En effet, si l'on prend un message constitué d'une suite de lettres identiques, toute permutation n'altère pas le message, et par conséquent il existe de multiples clés (n! pour être précis) telles que le texte décrit précédemment, chiffré selon une de ces clés, est lui-même. La contrainte d'existence et d'unicité de *k* pour *p* et *c* donnés n'est donc pas vérifiée.\n",
    "\n",
    "2 - En revanche, un système de Vigenère sur Z_26 avec une clé aussi longue que le texte vérifie cette hypothèse : l'unique clé *k* vérifiant *E(p, k) = c* pour *p* et *c* fixés est *k = c - p mod 26*. La validité de cette clé se vérifie facilement par *p + k mod 26 = p + (c - p) mod 26 = c mod 26* et la bijectivité de *x -> x + k mod 26* qui est facilement inversible."
   ]
  }
 ],
 "metadata": {
  "language_info": {
   "name": "python"
  },
  "orig_nbformat": 4
 },
 "nbformat": 4,
 "nbformat_minor": 2
}
