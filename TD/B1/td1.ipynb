{
 "cells": [
  {
   "cell_type": "markdown",
   "metadata": {},
   "source": [
    "Exercice B1 : Générateur affine\n",
    "\n",
    "On donne les suites de messages, clés et messages chiffrés suivantes, où la fonction d'encryption est le XOR logique :\n",
    "\n",
    "| p | 100 | 111 | 001 | ??? | ??? | ??? | ??? |\n",
    "|---|-----|-----|-----|-----|-----|-----|-----|\n",
    "| z | z0  | z1  | z2  | z3  | z4  | z5  | z6  |\n",
    "| C | 111 | 101 | 100 | 101 | 101 | 010 | 111 |\n",
    "\n",
    "Et on donne : z_{i+1} congru à az_i + b modulo 8.\n",
    "\n",
    "On cherche à retrouver les messages codés p3, p4, p5, p6.\n",
    "\n",
    "On a immédiatement :\n",
    "\n",
    "100 XOR z0 = 111 d'où z0 = 011 (3)\n",
    "111 XOR z1 = 101 d'où z1 = 010 (2)\n",
    "001 XOR z2 = 100 d'où z2 = 101 (5)\n",
    "\n",
    "On en déduit donc :\n",
    "\n",
    "2 = 3a + b (mod 8) (L1)\n",
    "5 = 2a + b (mod 8) (L2)\n",
    "\n",
    "d'où :\n",
    "\n",
    "5 = a (mod 8) (L1 - L2)\n",
    "5 = 2a + b (mod 8) (L2)\n",
    "\n",
    "et :\n",
    "\n",
    "a = 5 (mod 8)\n",
    "b = 3 (mod 8)\n",
    "\n",
    "Les z_i sont donc obtenus par la récurrence :\n",
    "\n",
    "* z0 = 3\n",
    "* z_{i+1} = 5z_i + 3 (mod 8)\n",
    "\n",
    "D'où les termes suivants :\n",
    "\n",
    "i         | 0 1 2 3 4 5 6\n",
    "z_i mod 8 | 3 2 5 4 7 6 1\n",
    "\n",
    "On obtient alors :\n",
    "\n",
    "p 100 111 001 ??? ??? ??? ???\n",
    "z 011 010 101 100 111 110 001\n",
    "C 111 101 100 101 101 010 111\n",
    "\n",
    "qui une fois déchiffré, car XOR est sa propre réciproque (i.e. C = p XOR z <=> p = z XOR C) donne :\n",
    "\n",
    "p 100 111 001 001 010 100 110 (4 7 1 1 2 4 5)\n",
    "z 011 010 101 100 111 110 001\n",
    "C 111 101 100 101 101 010 111"
   ]
  },
  {
   "cell_type": "code",
   "execution_count": 2,
   "metadata": {},
   "outputs": [
    {
     "name": "stdout",
     "output_type": "stream",
     "text": [
      "111 101 100 101 101 010 111 "
     ]
    }
   ],
   "source": [
    "# Python program to generate the z_i sequence and encrypt messages with their given position\n",
    "\n",
    "def z(n):\n",
    "    if n < 0:\n",
    "        raise AssertionError(\"Negative index\") # Negative index\n",
    "    elif n == 0:\n",
    "        return 3 # Cas de base\n",
    "    else:\n",
    "        return (5*z(n-1) + 3) % 8\n",
    "\n",
    "def to_byte_array(x):\n",
    "    return [x//4, (x - 4*(x//4) - x%2)//2, x%2]\n",
    "\n",
    "def xor(a, b):\n",
    "    return int ((a or b) and not (a and b))\n",
    "\n",
    "def encrypt(msg, pos):\n",
    "    if not (0 <= msg < 8):\n",
    "        raise AssertionError(\"Message is not a correct integer between 0 included and 8 excluded\")\n",
    "    msg_bin = to_byte_array(msg)\n",
    "    z_bin = to_byte_array(z(pos))\n",
    "    # We use the duality of boolean and 0-1 integers in Python\n",
    "    for i in range(3):\n",
    "        print(xor(msg_bin[i], z_bin[i]), end=\"\") # Calculate bit per bit\n",
    "    print(\" \", end=\"\") # Trailing space to separate each 3-bit block\n",
    "\n",
    "# Checking the exercise values\n",
    "encrypt(4, 0)\n",
    "encrypt(7, 1)\n",
    "encrypt(1, 2)\n",
    "encrypt(1, 3)\n",
    "encrypt(2, 4)\n",
    "encrypt(4, 5)\n",
    "encrypt(6, 6)"
   ]
  },
  {
   "cell_type": "code",
   "execution_count": null,
   "metadata": {},
   "outputs": [],
   "source": []
  }
 ],
 "metadata": {
  "interpreter": {
   "hash": "4c148169d2d91ed6bd40d575b0eeb9e188b4fea1119830e8dae95678fdea5d21"
  },
  "kernelspec": {
   "display_name": "Python 3 (ipykernel)",
   "language": "python",
   "name": "python3"
  },
  "language_info": {
   "codemirror_mode": {
    "name": "ipython",
    "version": 3
   },
   "file_extension": ".py",
   "mimetype": "text/x-python",
   "name": "python",
   "nbconvert_exporter": "python",
   "pygments_lexer": "ipython3",
   "version": "3.9.7"
  }
 },
 "nbformat": 4,
 "nbformat_minor": 2
}
